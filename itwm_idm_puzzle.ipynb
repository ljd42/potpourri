{
 "cells": [
  {
   "cell_type": "markdown",
   "id": "487ddfaa-b47c-41b9-9a15-c8ccc9167c7a",
   "metadata": {},
   "source": [
    "\\# Copyright 2024 Loic Domaigne <br>\n",
    "\\# SPDX-License-Identifier: Apache-2.0 \n",
    "\n",
    "# Solving the ITWM PI- day challenge"
   ]
  },
  {
   "cell_type": "markdown",
   "id": "8f727686-0b9f-4b4c-8eb8-bee108083b8a",
   "metadata": {},
   "source": [
    "The [ITWM](https://www.itwm.fraunhofer.de/en.html) submitted a [math puzzle on LinkedIn](https://www.linkedin.com/posts/fraunhofer-itwm_idm2024-iday24-activity-7174061183384047617) for the International Mathematics Day (IDM) on March 14th - aka PI-day:\n",
    "\n",
    "> insert the missing symbols, to solve the equation:\n",
    "> \n",
    "> $ 1 \\quad 7 \\quad  6 \\quad  2 \\quad 4 \\quad = \\quad 100$\n",
    ">\n",
    ">Fill the missing symbols to get the equation right! Whether plus, minus, times, divided or brackets, everything is possible.\n",
    "\n",
    "## 1. Solutions found by participants \n",
    "\n",
    "$\n",
    "\\begin{flalign*}\n",
    "(17+6+2)* 4 = 100 \\\\\n",
    "(1+7)*6*2+4 = 100 \\\\\n",
    "17*6 + 2 - 4 = 100\n",
    "\\end{flalign*}\n",
    "$\n",
    "\n",
    "So, we know that solutions to the problem exist. But did we find all of them? Let's see if we can figure it out with Python and some human Intelligence."
   ]
  },
  {
   "cell_type": "markdown",
   "id": "75a4f77f-2f52-46fe-86b4-5d4563e4c241",
   "metadata": {},
   "source": [
    "## 2. First idea (not good enough)\n",
    "\n",
    "A first idea is to consider the left of side of the equation as an expression using different operations $S_0, S_1,...$:\n",
    "\n",
    "$ 1 \\quad  S_0 \\quad 7 \\quad S_1 \\quad 6 \\quad S_2 \\quad 2 \\quad S_3 \\quad 4$\n",
    "\n",
    "where $ S_k $ is one of the $ \\{+,-,*,/,\\circ \\} $ symbol. The $\\circ$ symbol represents the \"empty symbol\", leading to string concatenation. For instance, $1 \\circ 7 = 17$.\n",
    "\n",
    "A simple brute force algorithm consists to form the expressions corresponding to all possible symbols combination, and evaluate if the value is 100. Of course, this approach suffers from combinatorial explosion, but the size of the search space here is small: $5^4 = 625$ if we assume one symbol between each digit.\n",
    "\n",
    "Let's put this idea into code. First, we can generate all symbol combinations using [product()](https://docs.python.org/3/library/itertools.html#itertools.product) from [itertools](https://docs.python.org/3/library/itertools.html#module-itertools). This function returns a itertor, which will produce one of the combination at each iteration."
   ]
  },
  {
   "cell_type": "code",
   "execution_count": 1,
   "id": "82fdf09b-10aa-48e7-ae96-ff072bb82192",
   "metadata": {},
   "outputs": [
    {
     "data": {
      "text/plain": [
       "('+', '+', '+', '+')"
      ]
     },
     "execution_count": 1,
     "metadata": {},
     "output_type": "execute_result"
    }
   ],
   "source": [
    "from itertools import product\n",
    "\n",
    "symbols=('+','-','*','/','')\n",
    "it=product(symbols, repeat=4)\n",
    "next(it)"
   ]
  },
  {
   "cell_type": "code",
   "execution_count": 2,
   "id": "730e5b56-ca2c-40ef-ba75-5b8deb657ef7",
   "metadata": {},
   "outputs": [
    {
     "name": "stdout",
     "output_type": "stream",
     "text": [
      "('+', '+', '+', '-')\n"
     ]
    }
   ],
   "source": [
    "S = next(it)\n",
    "print(S)"
   ]
  },
  {
   "cell_type": "markdown",
   "id": "84e70b5d-6b2a-45d0-a2b2-0232a92c4e91",
   "metadata": {},
   "source": [
    "Given one combination S, we can form the corresponding expression using a f-string<br/>\n",
    "`expr = f\"1{S[0]}7{S[1]}6{S[2]}2{S[3]}4\"`\n",
    "\n",
    "Let's print out for a few iterations:"
   ]
  },
  {
   "cell_type": "code",
   "execution_count": 3,
   "id": "5ea1d2a8-f291-4712-a531-22dd0498cd19",
   "metadata": {
    "editable": true,
    "slideshow": {
     "slide_type": ""
    },
    "tags": []
   },
   "outputs": [
    {
     "name": "stdout",
     "output_type": "stream",
     "text": [
      "1+7+6+2+4\n",
      "1+7+6+2-4\n",
      "1+7+6+2*4\n",
      "1+7+6+2/4\n",
      "1+7+6+24\n",
      "1+7+6-2+4\n"
     ]
    }
   ],
   "source": [
    "it=product(symbols, repeat=4)\n",
    "for n,S in enumerate(it):\n",
    "    expr = f\"1{S[0]}7{S[1]}6{S[2]}2{S[3]}4\"\n",
    "    print(expr)\n",
    "    if n==5:\n",
    "        break"
   ]
  },
  {
   "cell_type": "markdown",
   "id": "4e99095c-226a-4bc0-865f-2529be703496",
   "metadata": {},
   "source": [
    "Looks good! We just have now to evaluate the expressions using [eval()](https://docs.python.org/3/library/functions.html#eval), and check if the value is 100..."
   ]
  },
  {
   "cell_type": "code",
   "execution_count": 4,
   "id": "6e7ce57d-db60-4869-b4b5-a1fb18bb991c",
   "metadata": {},
   "outputs": [
    {
     "name": "stdout",
     "output_type": "stream",
     "text": [
      "1*76+24\n",
      "17*6+2-4\n",
      "Explored 625 solutions\n"
     ]
    }
   ],
   "source": [
    "it=product(symbols, repeat=4)\n",
    "for n,S in enumerate(it):\n",
    "    expr = f\"1{S[0]}7{S[1]}6{S[2]}2{S[3]}4\"\n",
    "    if eval(expr)==100:\n",
    "        print(expr)\n",
    "print(f\"Explored {n+1} solutions\")"
   ]
  },
  {
   "cell_type": "markdown",
   "id": "d953b522-f904-4338-aba5-9e6eb35f66c9",
   "metadata": {},
   "source": [
    "Fabulous! We have found a solution that no one had found: \n",
    "> $1*76+24$. \n",
    "\n",
    "Cool 😎 "
   ]
  },
  {
   "cell_type": "markdown",
   "id": "ff544ff3-f413-4188-b862-eb97a493f8ea",
   "metadata": {},
   "source": [
    "## 3. Missing solutions\n",
    "\n",
    "But we're obviously missing some solutions, like $(17+6+2)* 4 = 100$. <br/>\n",
    "What's missing. Oh dear? the braces...\n",
    "\n",
    "Can we extend our existing implementation to include the brace symbols `(` and `)`?  If we want to find the previous solution missed, we need to looks for expression of the kind:\n",
    "\n",
    "$\n",
    "\\begin{matrix} \n",
    "( & 1 &     & 7 &  +  & 6 &  +  & 2 &  )  & *   & 4 \\\\\n",
    "S_0 & 1 & S_1 & 7 & S_2 & 6 & S_3 & 2 & S_4 & S_5 & 4\n",
    "\\end{matrix}\n",
    "$\n",
    "\n",
    "First, the space has growth from $5^4 = 625$ to $7^6=117649$. That's manageable, but we're still aren't exploring all the possible solutions. How about:\n",
    "\n",
    "$\n",
    "\\begin{align*}\n",
    "(1+7)*(6+2)+4 \\\\\n",
    "((1+7)*6-2)/4\n",
    "\\end{align*}\n",
    "$\n",
    "\n",
    "Beside the search space exploding in size, the second difficulty is to form the expressions we want to investigate. Taking the previous examples:\n",
    "\n",
    "$\n",
    "\\begin{matrix}\n",
    "  ( & 1 &  +  & 7 &  )  &  *  &  (  & 6 &  +  & 2 &  )  &  +  & 4 \\\\\n",
    "S_0 & 1 & S_1 & 7 & S_2 & S_3 & S_4 & 6 & S_5 & 2 & S_6 & S_7 & 4 \\\\\n",
    "\\\\\n",
    "  ( &  (  & 1 &  +  & 7 &  )  &  *  & 6 &  -  & 2 &  )  &  /  & 4 \\\\\n",
    "S_0 & S_1 & 1 & S_2 & 7 & S_3 & S_4 & 6 & S_5 & 2 & S_6 & S_7 & 4\n",
    "\\end{matrix}\n",
    "$\n",
    "\n",
    "We see that we can potentially have 3 symbols between two digits like )*( in the first example, the symbols $S_2 S_3 S_4$ between the digits 7 and 6. \n",
    "\n",
    "We could look for expression with 3 symbols before or after each digits, leading to a space search of size $7^{18}$ or about 1.6 quadrillions... And we're not even sure to have covered all cases!"
   ]
  },
  {
   "cell_type": "code",
   "execution_count": 5,
   "id": "da9bd462-2e7a-421b-9d85-209738463dbd",
   "metadata": {},
   "outputs": [
    {
     "name": "stdout",
     "output_type": "stream",
     "text": [
      "1628413597910449 ~10^15\n"
     ]
    }
   ],
   "source": [
    "size = 7**18\n",
    "print(size, ' ~10^', len(str(size))-1, sep='')"
   ]
  },
  {
   "cell_type": "markdown",
   "id": "5ce8d160-c823-4e93-950c-245f50553600",
   "metadata": {
    "editable": true,
    "slideshow": {
     "slide_type": ""
    },
    "tags": []
   },
   "source": [
    "## 4. RPN and binary trees to the rescue\n",
    "\n",
    "There is another way to represent expression like (1+7)*(6-2)+4 using the [Reverse Polnish Notation (RPN)](https://en.wikipedia.org/wiki/Reverse_Polish_notation) or postfix expression: <br/>\n",
    "1 7 + 6 2 - * 4 +\n",
    "\n",
    "RPN evaluates left-to-right using a stack. When a value is seen, it is pushed onto the stack, when an operation is seen, the two last values are poped out, the operation performed, and the result pushed onto the stack.\n",
    "\n",
    "$\n",
    "\\begin{matrix}\n",
    " 1 & 7 & + & 6 & 2 & - & *  & 4 & + & expression\\\\\n",
    " \\\\\n",
    " 1 & 7 & 8 & 6 & 2 & 4 & 32 & 4 & 36 & stack \\\\\n",
    "   & 1 &   & 8 & 6 & 8 &    & 32 \\\\\n",
    "   &   &   &   & 8 & \n",
    "\\end{matrix}\n",
    "$\n",
    "\n",
    "Generating the expressions using RPN seems more manageable. However implementing the stack-based evaluation sounds like it will be slow... \n",
    "\n",
    "Some 30 years ago (hmm, time flies), I was fascinated by symbolic computations. In a flashback, I remembered the role played by [binary trees](https://en.wikipedia.org/wiki/Binary_expression_tree) to represent symbolic algebraic expressions. In fact, it is not difficult to convert any postfix expression to a binary tree.\n",
    "\n",
    "```\n",
    "        +\n",
    "       / \\ \n",
    "      /   \\\n",
    "     *     \\\n",
    "    /  \\    \\\n",
    "   /    \\    \\\n",
    "  +      -    \\\n",
    "/   \\   / \\    \\\n",
    "1   7   6  2    4\n",
    "```\n",
    "The corresponding expression can be built using a [Depth First Search (DFS)](https://en.wikipedia.org/wiki/Depth-first_search). Generally speaking, a tree with an operation $\\top$ and 2 sub-trees $L$ and $R$ form the expression $(L)\\top(R)$ :\n",
    "```\n",
    "  T\n",
    " / \\\n",
    "L   R\n",
    "```\n",
    "So the tree above leads to the expression $((1+7)*(6-2))+(4)$. \n",
    "\n",
    "Mathematically, some braces are superflous. We could get rid of those, but they don't do any harm. And Lisp programmers will love it!\n",
    "\n",
    "Using binary trees to carve the expressions takes automatically care of the braces combinations. Therefore our initial problem becomes:\n",
    "\n",
    "> Find all binary trees with 5 leaves representing the digits 1,7,6,2,4 respectively. The 4 nodes correspond to one of the symbol $\\{+,-,*,/,\\circ \\}$. For each tree, evaluate all possible expressions as we did in section [2. First idea](#2.-First-idea-(not-good-enough))"
   ]
  },
  {
   "cell_type": "markdown",
   "id": "f014cf95-bea7-4dc7-b004-c4d91ad49274",
   "metadata": {},
   "source": [
    "## 5. Generating all the binary trees with 5 leaves\n",
    "\n",
    "A binary tree has a left $L$ and a right $R$ subtree. If our tree has a total of $n$ leaves, and the left subtree $k$ leaves, then the right subtree has $n-k$ leaves.\n",
    "\n",
    "```\n",
    "  T\n",
    " / \\\n",
    "L   R\n",
    "```\n",
    "\n",
    "We can therefore construct all trees with $n$ leaves, if we know all the trees with $1,...,n-1$ leaves.\n",
    "\n",
    "```\n",
    "1-leaf trees\n",
    "  (.)                     \n",
    "\n",
    "---------------------------------------\n",
    "2-leaves trees\n",
    "   T           \n",
    "  / \\\n",
    "(.) (.)  (.)T(.)    \n",
    "\n",
    "---------------------------------------\n",
    "3-leaves trees\n",
    "     T\n",
    "    / \\\n",
    "   /   T\n",
    "  /   / \\\n",
    "(.) (.) (.)  (.)T((.)T(.))\n",
    "\n",
    "     T\n",
    "    / \\\n",
    "   T   \\\n",
    "  / \\   \\\n",
    "(.) (.) (.)  ((.)T(.))T(.)\n",
    "\n",
    "```\n",
    "\n",
    "In the string representation using the braces, dot and T character, \"(.)\" corresponds to a leaf (one of the digits 1,7,6...) whereas T to one of the operation/symbol +,-,...\n",
    "\n",
    "We can almost directly translated this idea into Python code. The function `gentrees` generates all the trees with a given number of leaves. We first start with a forest of 0- and 1-leaf tree `[{}, {'.'}]` and we successively built the trees with 2-, 3-,... leaves. It's handy to represent the trees with k-leaves as a set. `forest`is the list of all tress with 0,1,2,3,...-leaves, forest[k] represents the set of all trees with k-leaves.\n",
    "\n",
    "The  `gentrees()` function constructs this forest. This is a nice example of [dynamic programming](https://skerritt.blog/dynamic-programming/). The function takes as argument the number of wanted leaves, and an optional `op` argument for the operator symbol (default is `T`). It returns the last item of the forest's list, which is the set of all trees with `n_leaves`."
   ]
  },
  {
   "cell_type": "code",
   "execution_count": 6,
   "id": "90db9111-a48a-4234-912e-93070b33235a",
   "metadata": {},
   "outputs": [
    {
     "data": {
      "text/plain": [
       "{'((.)T(.))T(.)', '(.)T((.)T(.))'}"
      ]
     },
     "execution_count": 6,
     "metadata": {},
     "output_type": "execute_result"
    }
   ],
   "source": [
    "def gentrees(n_leaves, op='T'):\n",
    "    # 0 and 1-leaf tree\n",
    "    forest = [ {}, {'.'} ]\n",
    "\n",
    "    # generate the forest with trees having 2, 3,...n leaves\n",
    "    for n in range(2,n_leaves+1):\n",
    "        trees = set()\n",
    "        # assume the left subtree has k leaves with k=1,...n-1\n",
    "        for k in range(1,n):\n",
    "            for left_tree in forest[k]:\n",
    "                # then the right subtree must have n-k leaves\n",
    "                for right_tree in forest[n-k]:\n",
    "                    trees.add(f\"({left_tree}){op}({right_tree})\")\n",
    "        forest.append(trees)\n",
    "\n",
    "    # the last item corresponds to all the threes with n leaves\n",
    "    return forest[-1]\n",
    "    \n",
    "gentrees(3)"
   ]
  },
  {
   "cell_type": "markdown",
   "id": "80ef95b7-cb11-4c4b-819c-8db24f355332",
   "metadata": {},
   "source": [
    "## 6. From binary trees to expressions \n",
    "\n",
    "The next step is to convert the binary trees obtained with `gentrees()` to an expression we can evaluate with `eval`.  We need to:\n",
    "1) replace the leaves with the digits 1,7,6,2,4\n",
    "1) replace the 4 nodes 'T' with one of the possible symbols combinations.\n",
    "\n",
    "The leaves substitution can be achieved quite easily using a regular expression and `re.sub()`.\n",
    "For the node substitution, we'll using printf-string representation, and the % string interpolation operator. Let see an example below:"
   ]
  },
  {
   "cell_type": "code",
   "execution_count": 7,
   "id": "bef334d6-369d-436c-857d-ac57f9534e18",
   "metadata": {},
   "outputs": [
    {
     "name": "stdout",
     "output_type": "stream",
     "text": [
      "expr = '(1%s7)%s6'\n",
      "expr%S = '(1+7)-6'\n"
     ]
    }
   ],
   "source": [
    "import re\n",
    "\n",
    "digits=('1','7','6','2','4')\n",
    "t  = '((.)%s(.))%s(.)' \n",
    "\n",
    "# substitute leaves\n",
    "it = iter(digits)\n",
    "expr  = re.sub(r'\\(\\.\\)', lambda m: next(it), t)\n",
    "print(f'{expr = }')\n",
    "\n",
    "# interpolate the nodes with S\n",
    "S=('+','-')\n",
    "print(f'{expr%S = }')"
   ]
  },
  {
   "cell_type": "markdown",
   "id": "f6714080-627f-4514-a7bc-f39fe9c6ead4",
   "metadata": {},
   "source": [
    "In the example above, we start with the 3-leaves tree `((.)%s(.))%s(.)`. Here the symbol `T` got replaced by `%s`, something we can easily get by passing `op='%s'` to `gentrees`.\n",
    "\n",
    "We use regular expression to match the string `(.)`, and each match is replaced by the next value in the digits sequence. That is 1st match is replaced by `1`, 2nd match by `7`, 3rd match by `6` etc. After this substitution, we get the string `expr='(1%s7)%s6'`.\n",
    "\n",
    "We can then replace the two \"%s\" using `expr%S` where S is a tuple of 2 strings corresponding to the operation we'd like to perform, here in the example `S=('+','-')`.\n",
    "\n",
    "Let's built upon `gentrees()` a function `genexprs()` that will create a set of trees using '%s' for the nodes, and where the leaves are replaced by the digits 1,7,6,... "
   ]
  },
  {
   "cell_type": "code",
   "execution_count": 8,
   "id": "a183c75b-9a2e-4bb3-bb00-337d47d9aefb",
   "metadata": {
    "editable": true,
    "slideshow": {
     "slide_type": ""
    },
    "tags": []
   },
   "outputs": [],
   "source": [
    "import re\n",
    "\n",
    "def genexprs(digits):\n",
    "    n_leaves = len(digits)\n",
    "    trees = gentrees(n_leaves,'%s')\n",
    "\n",
    "    result = set()\n",
    "    for t in trees:\n",
    "        it = iter(digits)\n",
    "        s = re.sub(r'\\(\\.\\)', lambda m: next(it), t)\n",
    "        result.add(s)\n",
    "    return result"
   ]
  },
  {
   "cell_type": "code",
   "execution_count": 9,
   "id": "de8ecb00-15b3-4658-bb67-74013f4f902d",
   "metadata": {},
   "outputs": [
    {
     "name": "stdout",
     "output_type": "stream",
     "text": [
      "#exprs =  14\n"
     ]
    },
    {
     "data": {
      "text/plain": [
       "{'(((1%s7)%s6)%s2)%s4',\n",
       " '((1%s(7%s6))%s2)%s4',\n",
       " '((1%s7)%s(6%s2))%s4',\n",
       " '((1%s7)%s6)%s(2%s4)',\n",
       " '(1%s((7%s6)%s2))%s4',\n",
       " '(1%s(7%s(6%s2)))%s4',\n",
       " '(1%s(7%s6))%s(2%s4)',\n",
       " '(1%s7)%s((6%s2)%s4)',\n",
       " '(1%s7)%s(6%s(2%s4))',\n",
       " '1%s(((7%s6)%s2)%s4)',\n",
       " '1%s((7%s(6%s2))%s4)',\n",
       " '1%s((7%s6)%s(2%s4))',\n",
       " '1%s(7%s((6%s2)%s4))',\n",
       " '1%s(7%s(6%s(2%s4)))'}"
      ]
     },
     "execution_count": 9,
     "metadata": {},
     "output_type": "execute_result"
    }
   ],
   "source": [
    "digits=('1','7','6','2','4')\n",
    "exprs = genexprs(digits)\n",
    "print(\"#exprs = \", len(exprs))\n",
    "exprs"
   ]
  },
  {
   "cell_type": "markdown",
   "id": "aac2dcfa-d8e4-4a2f-b29f-aea85019156a",
   "metadata": {},
   "source": [
    "## 7. Answering the puzzle"
   ]
  },
  {
   "cell_type": "markdown",
   "id": "8b0b4b4b-3ab1-464f-85a2-915e8f244baf",
   "metadata": {},
   "source": [
    "For each expressions, we can then test all symbols combination as we did in section [2. First idea](#2.-First-idea-(not-good-enough)). As we have only 14 kind of expressions, the size of the search space is $14*5^4 = 8750$, which is easily explored. "
   ]
  },
  {
   "cell_type": "code",
   "execution_count": 10,
   "id": "6750ad67-eef8-479a-8bf7-ca8734d20b50",
   "metadata": {},
   "outputs": [
    {
     "name": "stdout",
     "output_type": "stream",
     "text": [
      "checking:  1+((7+(6+2))+4)\n",
      "checking:  1+((7+(6+2))-4)\n",
      "checking:  1+((7+(6+2))*4)\n",
      "checking:  1+((7+(6+2))/4)\n",
      "checking:  1+((7+(6+2))4)\n"
     ]
    },
    {
     "ename": "SyntaxError",
     "evalue": "invalid syntax. Perhaps you forgot a comma? (<string>, line 1)",
     "output_type": "error",
     "traceback": [
      "Traceback \u001b[0;36m(most recent call last)\u001b[0m:\n",
      "\u001b[0m  File \u001b[1;32m~/playground/venv/lib64/python3.11/site-packages/IPython/core/interactiveshell.py:3550\u001b[0m in \u001b[1;35mrun_code\u001b[0m\n    exec(code_obj, self.user_global_ns, self.user_ns)\u001b[0m\n",
      "\u001b[0;36m  Cell \u001b[0;32mIn[10], line 11\u001b[0;36m\n\u001b[0;31m    if eval(expr)==100:\u001b[0;36m\n",
      "\u001b[0;36m  File \u001b[0;32m<string>:1\u001b[0;36m\u001b[0m\n\u001b[0;31m    1+((7+(6+2))4)\u001b[0m\n\u001b[0m        ^\u001b[0m\n\u001b[0;31mSyntaxError\u001b[0m\u001b[0;31m:\u001b[0m invalid syntax. Perhaps you forgot a comma?\n"
     ]
    }
   ],
   "source": [
    "from itertools import product\n",
    "\n",
    "symbols = ('+','-','*','/','')\n",
    "digits = ('1','7','6','2','4')\n",
    "\n",
    "for e in genexprs(digits):\n",
    "    it=product(symbols, repeat=4)\n",
    "    for n,s in enumerate(it):\n",
    "        expr = e%s\n",
    "        print('checking: ',expr)\n",
    "        if eval(expr)==100:\n",
    "            print(expr)"
   ]
  },
  {
   "cell_type": "markdown",
   "id": "f2f80226-473d-4f41-98f6-664a800e57fd",
   "metadata": {},
   "source": [
    "Sounds promizing, but certain expressions like $(1+(7+(6+2)))4 \\quad$ aren't a valid Python expression. So we need to handle the corresponding exception, here SyntaxError. There are a few more corner cases to handle, like:\n",
    "\n",
    "$(1+(7(6+2)))+4$  raises TypeError<br/>\n",
    "$(1+7)/((6-2)-4)$ raises ZeroDivisionError\n",
    "\n",
    "In addition, jupyter will trigger a syntax warning, that we suppress to avoid swamping the output. "
   ]
  },
  {
   "cell_type": "code",
   "execution_count": 11,
   "id": "362c0602-1f11-469b-8597-a9697c884596",
   "metadata": {},
   "outputs": [],
   "source": [
    "# ignore warning messages from jupyter\n",
    "import warnings\n",
    "warnings.filterwarnings('ignore')"
   ]
  },
  {
   "cell_type": "code",
   "execution_count": 12,
   "id": "085cb0ed-47cb-4355-99e1-d86a0559616b",
   "metadata": {},
   "outputs": [
    {
     "name": "stdout",
     "output_type": "stream",
     "text": [
      "(1*(76))+(24)\n",
      "((17)*6)+(2-4)\n",
      "1*((76)+(24))\n",
      "((1+7)*(6*2))+4\n",
      "((17)+(6+2))*4\n",
      "(((1+7)*6)*2)+4\n",
      "(((17)+6)+2)*4\n",
      "(((17)*6)+2)-4\n"
     ]
    }
   ],
   "source": [
    "from itertools import product\n",
    "\n",
    "digits=('1','7','6','2','4')\n",
    "symbols=('+','-','*','/','')\n",
    "\n",
    "for e in genexprs(digits):\n",
    "    it=product(symbols, repeat=4)\n",
    "    for ops in it:\n",
    "        expr = e%ops\n",
    "        try:\n",
    "            v = eval(expr)\n",
    "            if v==100:\n",
    "                print(expr)\n",
    "        except (SyntaxError, TypeError, ZeroDivisionError):\n",
    "            pass"
   ]
  },
  {
   "cell_type": "markdown",
   "id": "8f9e39be-df5b-47ac-9bd2-a40f1088a0f8",
   "metadata": {},
   "source": [
    "## 8. Aftermath (ah,ah)\n",
    "\n",
    "The solutions output contain some superfluous braces. While we could teach Python how to remove those braces, a human can do the job quicker:\n",
    "\n",
    "$\n",
    "\\begin{flalign*}\n",
    "& 1*76+24     \\\\\n",
    "& 1*(76+24)   \\\\\n",
    "& (17+6+2)*4  \\\\\n",
    "& 17*6+2-4    \\\\\n",
    "& (1+7)*6*2+4\n",
    "\\end{flalign*}\n",
    "$\n",
    "\n",
    "We missed the two first solutions. \n",
    "\n",
    "Finding a solution by hand was fun, finding all solutions with Python even more so. This simple looking puzzle took us to the realm of iterators and itertools, binary trees, dynamic programming, regular expression, lambda, string interpolation... What a journey!\n",
    "\n",
    "I kept the code 'relatively' straightforward to ease the understanding. \"More Pythonic / efficient\" versions exist, but it's good enough for now.\n",
    "\n",
    "Happy to hear if you find any mistakes or have - possibly more elegants -approaches to solve the problem."
   ]
  },
  {
   "cell_type": "markdown",
   "id": "3ea60d83-c099-491a-9a89-272bb03b784e",
   "metadata": {},
   "source": [
    "# HAPPY END 😎 "
   ]
  }
 ],
 "metadata": {
  "kernelspec": {
   "display_name": "Python 3 (ipykernel)",
   "language": "python",
   "name": "python3"
  },
  "language_info": {
   "codemirror_mode": {
    "name": "ipython",
    "version": 3
   },
   "file_extension": ".py",
   "mimetype": "text/x-python",
   "name": "python",
   "nbconvert_exporter": "python",
   "pygments_lexer": "ipython3",
   "version": "3.11.8"
  }
 },
 "nbformat": 4,
 "nbformat_minor": 5
}
